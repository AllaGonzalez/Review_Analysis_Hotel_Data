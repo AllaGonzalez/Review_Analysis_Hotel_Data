{
 "cells": [
  {
   "cell_type": "markdown",
   "metadata": {},
   "source": [
    "# Hotel Review Sentiment Analysis\n",
    "\n",
    "\n",
    "I am the kind of person who always reads reviews. Be it going to a new restaurant or buying a treadmill, I'm going to base my decision off of the impressions of other buyers, plus I'd definitely consider what they mentioned as the downside of a product or a place. Not surprisingly, when going on vacation, I read hotel reviews. This is actually one of the main sorting criteria for me together with price and location. So when thinking of hotel reviews, I wondered what I can find out en masse and study the sentiments of reviewers.\n",
    "\n",
    "**Dataset**\n",
    "\n",
    "The dataset used for this project was downloaded from Kaggle.com. Originally, the information was scraped from Booking.com.\n",
    "\n",
    "The data was presented in a csv file featuring 515,000 guest reviews that evaluated 1,493 hotels in Europe. There are 17 columns in the file as follows:\n",
    "\n",
    "1. Hotel_Address: Address of hotel.\n",
    "2. Additional_Number_of_Scoring: There are also some guests who just made a scoring on the service rather than a review. This number indicates how many valid scores without review in there.\n",
    "3. Review_Date: Date when reviewer posted the corresponding review.\n",
    "4. Average_Score: Average Score of the hotel, calculated based on the latest comment in the last year.\n",
    "5. Hotel_Name: Name of Hotel\n",
    "6. Reviewer_Nationality: Nationality of Reviewer\n",
    "7. Negative_Review: Negative Review the reviewer gave to the hotel. If the reviewer does not give the negative review, then it should be: 'No Negative'\n",
    "8. Review_Total_Negative_Word_Counts: Total number of words in the negative review.\n",
    "9. Positive_Review: Positive Review the reviewer gave to the hotel. If the reviewer does not give the negative review, then it should be: 'No Positive'\n",
    "10. Review_Total_Positive_Word_Counts: Total number of words in the positive review.\n",
    "11. Reviewer_Score: Score the reviewer has given to the hotel, based on his/her experience\n",
    "12. Total_Number_of_Reviews_Reviewer_Has_Given: Number of Reviews the reviewer has given in the past.\n",
    "13. Total_Number_of_Reviews: Total number of valid reviews the hotel has.\n",
    "14. Tags: Tags reviewer gave the hotel.\n",
    "15. days_since_review: Duration between the review date and scrape date.\n",
    "16. lat: Latitude of the hotel\n",
    "17. lng: longtitude of the hotel\n",
    "\n",
    "The only preprocessing that was done on the data set prior to us obtaining it was removing unicode, punctuation, and transforming all text into lower case. \n",
    "\n",
    "**Research Process**\n",
    "\n",
    "For the purposes of this research we are going to follow the OSEMN process, which stands for Obtain, Scrub, Explore, Model, and iNterpret.\n",
    "\n",
    "We have already covered how we obtained the data from Kaggle.com. Next, we need dto load the data and check whether the data types are consistent, or if the dataset has any null values. After that comes a very important part of any data science research. We are going to explore our data set through visualizations searching for patterns and trends. There is a lot we can find out just from this step alone before we move to the next thing to do, which is modeling. For this project, we are going to turn to a classification model. After all is said and done, we are going to provide suggestions for how to use the findings in real world.\n",
    "\n",
    "**Goal Of This Research**\n",
    "\n",
    "The aim of our study would be to find out general patterns and trends when it comes to reviewing the hotel. We will focus on trying to predict what words can signal whether the hotel will get a high or a low score. We will also focus on the reviewers: what nationality is the most generous when it comes to reviewing accommodations? Lastly, we'll investigate whether hotels' location is connected to general patterns and trends of the kind of score it will receive.\n",
    "\n",
    "## Obtain The Data"
   ]
  },
  {
   "cell_type": "code",
   "execution_count": 1,
   "metadata": {
    "scrolled": true
   },
   "outputs": [
    {
     "name": "stderr",
     "output_type": "stream",
     "text": [
      "[nltk_data] Downloading package punkt to\n",
      "[nltk_data]     /Users/algonzalez/nltk_data...\n",
      "[nltk_data]   Package punkt is already up-to-date!\n"
     ]
    }
   ],
   "source": [
    "#load the necessary packages\n",
    "import pandas as pd\n",
    "import numpy as np\n",
    "np.random.seed(0)\n",
    "import matplotlib.pyplot as plt\n",
    "import seaborn as sns\n",
    "from sklearn.model_selection import train_test_split\n",
    "from sklearn.metrics import accuracy_score, confusion_matrix, classification_report\n",
    "from sklearn.tree import DecisionTreeClassifier\n",
    "from sklearn.ensemble import BaggingClassifier, RandomForestClassifier\n",
    "from sklearn.model_selection import GridSearchCV\n",
    "import warnings\n",
    "warnings.filterwarnings('ignore')\n",
    "%matplotlib inline\n",
    "import seaborn as sns\n",
    "import nltk\n",
    "nltk.download('punkt')\n",
    "from nltk.corpus import stopwords\n",
    "import string\n",
    "from nltk import sent_tokenize, word_tokenize, FreqDist\n",
    "from sklearn.feature_extraction.text import TfidfVectorizer\n",
    "from sklearn.naive_bayes import MultinomialNB\n",
    "from gensim.models import word2vec"
   ]
  },
  {
   "cell_type": "code",
   "execution_count": 2,
   "metadata": {
    "scrolled": true
   },
   "outputs": [
    {
     "data": {
      "text/html": [
       "<div>\n",
       "<style scoped>\n",
       "    .dataframe tbody tr th:only-of-type {\n",
       "        vertical-align: middle;\n",
       "    }\n",
       "\n",
       "    .dataframe tbody tr th {\n",
       "        vertical-align: top;\n",
       "    }\n",
       "\n",
       "    .dataframe thead th {\n",
       "        text-align: right;\n",
       "    }\n",
       "</style>\n",
       "<table border=\"1\" class=\"dataframe\">\n",
       "  <thead>\n",
       "    <tr style=\"text-align: right;\">\n",
       "      <th></th>\n",
       "      <th>Hotel_Address</th>\n",
       "      <th>Additional_Number_of_Scoring</th>\n",
       "      <th>Review_Date</th>\n",
       "      <th>Average_Score</th>\n",
       "      <th>Hotel_Name</th>\n",
       "      <th>Reviewer_Nationality</th>\n",
       "      <th>Negative_Review</th>\n",
       "      <th>Review_Total_Negative_Word_Counts</th>\n",
       "      <th>Total_Number_of_Reviews</th>\n",
       "      <th>Positive_Review</th>\n",
       "      <th>Review_Total_Positive_Word_Counts</th>\n",
       "      <th>Total_Number_of_Reviews_Reviewer_Has_Given</th>\n",
       "      <th>Reviewer_Score</th>\n",
       "      <th>Tags</th>\n",
       "      <th>days_since_review</th>\n",
       "      <th>lat</th>\n",
       "      <th>lng</th>\n",
       "    </tr>\n",
       "  </thead>\n",
       "  <tbody>\n",
       "    <tr>\n",
       "      <th>0</th>\n",
       "      <td>s Gravesandestraat 55 Oost 1092 AA Amsterdam ...</td>\n",
       "      <td>194</td>\n",
       "      <td>8/3/2017</td>\n",
       "      <td>7.7</td>\n",
       "      <td>Hotel Arena</td>\n",
       "      <td>Russia</td>\n",
       "      <td>I am so angry that i made this post available...</td>\n",
       "      <td>397</td>\n",
       "      <td>1403</td>\n",
       "      <td>Only the park outside of the hotel was beauti...</td>\n",
       "      <td>11</td>\n",
       "      <td>7</td>\n",
       "      <td>2.9</td>\n",
       "      <td>[' Leisure trip ', ' Couple ', ' Duplex Double...</td>\n",
       "      <td>0 days</td>\n",
       "      <td>52.360576</td>\n",
       "      <td>4.915968</td>\n",
       "    </tr>\n",
       "    <tr>\n",
       "      <th>1</th>\n",
       "      <td>s Gravesandestraat 55 Oost 1092 AA Amsterdam ...</td>\n",
       "      <td>194</td>\n",
       "      <td>8/3/2017</td>\n",
       "      <td>7.7</td>\n",
       "      <td>Hotel Arena</td>\n",
       "      <td>Ireland</td>\n",
       "      <td>No Negative</td>\n",
       "      <td>0</td>\n",
       "      <td>1403</td>\n",
       "      <td>No real complaints the hotel was great great ...</td>\n",
       "      <td>105</td>\n",
       "      <td>7</td>\n",
       "      <td>7.5</td>\n",
       "      <td>[' Leisure trip ', ' Couple ', ' Duplex Double...</td>\n",
       "      <td>0 days</td>\n",
       "      <td>52.360576</td>\n",
       "      <td>4.915968</td>\n",
       "    </tr>\n",
       "    <tr>\n",
       "      <th>2</th>\n",
       "      <td>s Gravesandestraat 55 Oost 1092 AA Amsterdam ...</td>\n",
       "      <td>194</td>\n",
       "      <td>7/31/2017</td>\n",
       "      <td>7.7</td>\n",
       "      <td>Hotel Arena</td>\n",
       "      <td>Australia</td>\n",
       "      <td>Rooms are nice but for elderly a bit difficul...</td>\n",
       "      <td>42</td>\n",
       "      <td>1403</td>\n",
       "      <td>Location was good and staff were ok It is cut...</td>\n",
       "      <td>21</td>\n",
       "      <td>9</td>\n",
       "      <td>7.1</td>\n",
       "      <td>[' Leisure trip ', ' Family with young childre...</td>\n",
       "      <td>3 days</td>\n",
       "      <td>52.360576</td>\n",
       "      <td>4.915968</td>\n",
       "    </tr>\n",
       "    <tr>\n",
       "      <th>3</th>\n",
       "      <td>s Gravesandestraat 55 Oost 1092 AA Amsterdam ...</td>\n",
       "      <td>194</td>\n",
       "      <td>7/31/2017</td>\n",
       "      <td>7.7</td>\n",
       "      <td>Hotel Arena</td>\n",
       "      <td>United Kingdom</td>\n",
       "      <td>My room was dirty and I was afraid to walk ba...</td>\n",
       "      <td>210</td>\n",
       "      <td>1403</td>\n",
       "      <td>Great location in nice surroundings the bar a...</td>\n",
       "      <td>26</td>\n",
       "      <td>1</td>\n",
       "      <td>3.8</td>\n",
       "      <td>[' Leisure trip ', ' Solo traveler ', ' Duplex...</td>\n",
       "      <td>3 days</td>\n",
       "      <td>52.360576</td>\n",
       "      <td>4.915968</td>\n",
       "    </tr>\n",
       "    <tr>\n",
       "      <th>4</th>\n",
       "      <td>s Gravesandestraat 55 Oost 1092 AA Amsterdam ...</td>\n",
       "      <td>194</td>\n",
       "      <td>7/24/2017</td>\n",
       "      <td>7.7</td>\n",
       "      <td>Hotel Arena</td>\n",
       "      <td>New Zealand</td>\n",
       "      <td>You When I booked with your company on line y...</td>\n",
       "      <td>140</td>\n",
       "      <td>1403</td>\n",
       "      <td>Amazing location and building Romantic setting</td>\n",
       "      <td>8</td>\n",
       "      <td>3</td>\n",
       "      <td>6.7</td>\n",
       "      <td>[' Leisure trip ', ' Couple ', ' Suite ', ' St...</td>\n",
       "      <td>10 days</td>\n",
       "      <td>52.360576</td>\n",
       "      <td>4.915968</td>\n",
       "    </tr>\n",
       "  </tbody>\n",
       "</table>\n",
       "</div>"
      ],
      "text/plain": [
       "                                       Hotel_Address  \\\n",
       "0   s Gravesandestraat 55 Oost 1092 AA Amsterdam ...   \n",
       "1   s Gravesandestraat 55 Oost 1092 AA Amsterdam ...   \n",
       "2   s Gravesandestraat 55 Oost 1092 AA Amsterdam ...   \n",
       "3   s Gravesandestraat 55 Oost 1092 AA Amsterdam ...   \n",
       "4   s Gravesandestraat 55 Oost 1092 AA Amsterdam ...   \n",
       "\n",
       "   Additional_Number_of_Scoring Review_Date  Average_Score   Hotel_Name  \\\n",
       "0                           194    8/3/2017            7.7  Hotel Arena   \n",
       "1                           194    8/3/2017            7.7  Hotel Arena   \n",
       "2                           194   7/31/2017            7.7  Hotel Arena   \n",
       "3                           194   7/31/2017            7.7  Hotel Arena   \n",
       "4                           194   7/24/2017            7.7  Hotel Arena   \n",
       "\n",
       "  Reviewer_Nationality                                    Negative_Review  \\\n",
       "0              Russia    I am so angry that i made this post available...   \n",
       "1             Ireland                                         No Negative   \n",
       "2           Australia    Rooms are nice but for elderly a bit difficul...   \n",
       "3      United Kingdom    My room was dirty and I was afraid to walk ba...   \n",
       "4         New Zealand    You When I booked with your company on line y...   \n",
       "\n",
       "   Review_Total_Negative_Word_Counts  Total_Number_of_Reviews  \\\n",
       "0                                397                     1403   \n",
       "1                                  0                     1403   \n",
       "2                                 42                     1403   \n",
       "3                                210                     1403   \n",
       "4                                140                     1403   \n",
       "\n",
       "                                     Positive_Review  \\\n",
       "0   Only the park outside of the hotel was beauti...   \n",
       "1   No real complaints the hotel was great great ...   \n",
       "2   Location was good and staff were ok It is cut...   \n",
       "3   Great location in nice surroundings the bar a...   \n",
       "4    Amazing location and building Romantic setting    \n",
       "\n",
       "   Review_Total_Positive_Word_Counts  \\\n",
       "0                                 11   \n",
       "1                                105   \n",
       "2                                 21   \n",
       "3                                 26   \n",
       "4                                  8   \n",
       "\n",
       "   Total_Number_of_Reviews_Reviewer_Has_Given  Reviewer_Score  \\\n",
       "0                                           7             2.9   \n",
       "1                                           7             7.5   \n",
       "2                                           9             7.1   \n",
       "3                                           1             3.8   \n",
       "4                                           3             6.7   \n",
       "\n",
       "                                                Tags days_since_review  \\\n",
       "0  [' Leisure trip ', ' Couple ', ' Duplex Double...            0 days   \n",
       "1  [' Leisure trip ', ' Couple ', ' Duplex Double...            0 days   \n",
       "2  [' Leisure trip ', ' Family with young childre...            3 days   \n",
       "3  [' Leisure trip ', ' Solo traveler ', ' Duplex...            3 days   \n",
       "4  [' Leisure trip ', ' Couple ', ' Suite ', ' St...           10 days   \n",
       "\n",
       "         lat       lng  \n",
       "0  52.360576  4.915968  \n",
       "1  52.360576  4.915968  \n",
       "2  52.360576  4.915968  \n",
       "3  52.360576  4.915968  \n",
       "4  52.360576  4.915968  "
      ]
     },
     "execution_count": 2,
     "metadata": {},
     "output_type": "execute_result"
    }
   ],
   "source": [
    "#load the data set and view the first 5 rows\n",
    "df = pd.read_csv(\"Hotel_Reviews.csv\")\n",
    "df.head()"
   ]
  },
  {
   "cell_type": "markdown",
   "metadata": {},
   "source": [
    "At first glance, we can see that the address of the hotel address features several parameters in the same line, and if we want to do more digging into the correlation between hotel scores and location, we'll need to do feature engineering to disect the city / country where the hotel is in from the rest of the address information. \n",
    "\n",
    "Let's study the dataset futher."
   ]
  },
  {
   "cell_type": "code",
   "execution_count": 3,
   "metadata": {},
   "outputs": [
    {
     "data": {
      "text/plain": [
       "(515738, 17)"
      ]
     },
     "execution_count": 3,
     "metadata": {},
     "output_type": "execute_result"
    }
   ],
   "source": [
    "#view the number of rows and columns\n",
    "df.shape"
   ]
  },
  {
   "cell_type": "markdown",
   "metadata": {},
   "source": [
    "Like we noted previously, there are 17 columns and 515,738 reviews in the dataset."
   ]
  },
  {
   "cell_type": "markdown",
   "metadata": {},
   "source": [
    "## Scrub The Data"
   ]
  },
  {
   "cell_type": "markdown",
   "metadata": {},
   "source": [
    "Now that we have our dataset, we need to check whether there is any missing data or null values, so we can deal with them before moving to visualization and modeling. "
   ]
  },
  {
   "cell_type": "code",
   "execution_count": 4,
   "metadata": {},
   "outputs": [
    {
     "name": "stdout",
     "output_type": "stream",
     "text": [
      "<class 'pandas.core.frame.DataFrame'>\n",
      "RangeIndex: 515738 entries, 0 to 515737\n",
      "Data columns (total 17 columns):\n",
      "Hotel_Address                                 515738 non-null object\n",
      "Additional_Number_of_Scoring                  515738 non-null int64\n",
      "Review_Date                                   515738 non-null object\n",
      "Average_Score                                 515738 non-null float64\n",
      "Hotel_Name                                    515738 non-null object\n",
      "Reviewer_Nationality                          515738 non-null object\n",
      "Negative_Review                               515738 non-null object\n",
      "Review_Total_Negative_Word_Counts             515738 non-null int64\n",
      "Total_Number_of_Reviews                       515738 non-null int64\n",
      "Positive_Review                               515738 non-null object\n",
      "Review_Total_Positive_Word_Counts             515738 non-null int64\n",
      "Total_Number_of_Reviews_Reviewer_Has_Given    515738 non-null int64\n",
      "Reviewer_Score                                515738 non-null float64\n",
      "Tags                                          515738 non-null object\n",
      "days_since_review                             515738 non-null object\n",
      "lat                                           512470 non-null float64\n",
      "lng                                           512470 non-null float64\n",
      "dtypes: float64(4), int64(5), object(8)\n",
      "memory usage: 66.9+ MB\n"
     ]
    }
   ],
   "source": [
    "#view data types and data input in each column\n",
    "df.info()"
   ]
  },
  {
   "cell_type": "markdown",
   "metadata": {},
   "source": [
    "As we can see the only null values are in the *lat* and *lng* columns which are aren't going to need for furhter ananlysis, so we are going to drop these 2 columns."
   ]
  },
  {
   "cell_type": "code",
   "execution_count": 5,
   "metadata": {
    "scrolled": true
   },
   "outputs": [
    {
     "data": {
      "text/html": [
       "<div>\n",
       "<style scoped>\n",
       "    .dataframe tbody tr th:only-of-type {\n",
       "        vertical-align: middle;\n",
       "    }\n",
       "\n",
       "    .dataframe tbody tr th {\n",
       "        vertical-align: top;\n",
       "    }\n",
       "\n",
       "    .dataframe thead th {\n",
       "        text-align: right;\n",
       "    }\n",
       "</style>\n",
       "<table border=\"1\" class=\"dataframe\">\n",
       "  <thead>\n",
       "    <tr style=\"text-align: right;\">\n",
       "      <th></th>\n",
       "      <th>Hotel_Address</th>\n",
       "      <th>Additional_Number_of_Scoring</th>\n",
       "      <th>Review_Date</th>\n",
       "      <th>Average_Score</th>\n",
       "      <th>Hotel_Name</th>\n",
       "      <th>Reviewer_Nationality</th>\n",
       "      <th>Negative_Review</th>\n",
       "      <th>Review_Total_Negative_Word_Counts</th>\n",
       "      <th>Total_Number_of_Reviews</th>\n",
       "      <th>Positive_Review</th>\n",
       "      <th>Review_Total_Positive_Word_Counts</th>\n",
       "      <th>Total_Number_of_Reviews_Reviewer_Has_Given</th>\n",
       "      <th>Reviewer_Score</th>\n",
       "      <th>Tags</th>\n",
       "      <th>days_since_review</th>\n",
       "    </tr>\n",
       "  </thead>\n",
       "  <tbody>\n",
       "    <tr>\n",
       "      <th>0</th>\n",
       "      <td>s Gravesandestraat 55 Oost 1092 AA Amsterdam ...</td>\n",
       "      <td>194</td>\n",
       "      <td>8/3/2017</td>\n",
       "      <td>7.7</td>\n",
       "      <td>Hotel Arena</td>\n",
       "      <td>Russia</td>\n",
       "      <td>I am so angry that i made this post available...</td>\n",
       "      <td>397</td>\n",
       "      <td>1403</td>\n",
       "      <td>Only the park outside of the hotel was beauti...</td>\n",
       "      <td>11</td>\n",
       "      <td>7</td>\n",
       "      <td>2.9</td>\n",
       "      <td>[' Leisure trip ', ' Couple ', ' Duplex Double...</td>\n",
       "      <td>0 days</td>\n",
       "    </tr>\n",
       "    <tr>\n",
       "      <th>1</th>\n",
       "      <td>s Gravesandestraat 55 Oost 1092 AA Amsterdam ...</td>\n",
       "      <td>194</td>\n",
       "      <td>8/3/2017</td>\n",
       "      <td>7.7</td>\n",
       "      <td>Hotel Arena</td>\n",
       "      <td>Ireland</td>\n",
       "      <td>No Negative</td>\n",
       "      <td>0</td>\n",
       "      <td>1403</td>\n",
       "      <td>No real complaints the hotel was great great ...</td>\n",
       "      <td>105</td>\n",
       "      <td>7</td>\n",
       "      <td>7.5</td>\n",
       "      <td>[' Leisure trip ', ' Couple ', ' Duplex Double...</td>\n",
       "      <td>0 days</td>\n",
       "    </tr>\n",
       "    <tr>\n",
       "      <th>2</th>\n",
       "      <td>s Gravesandestraat 55 Oost 1092 AA Amsterdam ...</td>\n",
       "      <td>194</td>\n",
       "      <td>7/31/2017</td>\n",
       "      <td>7.7</td>\n",
       "      <td>Hotel Arena</td>\n",
       "      <td>Australia</td>\n",
       "      <td>Rooms are nice but for elderly a bit difficul...</td>\n",
       "      <td>42</td>\n",
       "      <td>1403</td>\n",
       "      <td>Location was good and staff were ok It is cut...</td>\n",
       "      <td>21</td>\n",
       "      <td>9</td>\n",
       "      <td>7.1</td>\n",
       "      <td>[' Leisure trip ', ' Family with young childre...</td>\n",
       "      <td>3 days</td>\n",
       "    </tr>\n",
       "    <tr>\n",
       "      <th>3</th>\n",
       "      <td>s Gravesandestraat 55 Oost 1092 AA Amsterdam ...</td>\n",
       "      <td>194</td>\n",
       "      <td>7/31/2017</td>\n",
       "      <td>7.7</td>\n",
       "      <td>Hotel Arena</td>\n",
       "      <td>United Kingdom</td>\n",
       "      <td>My room was dirty and I was afraid to walk ba...</td>\n",
       "      <td>210</td>\n",
       "      <td>1403</td>\n",
       "      <td>Great location in nice surroundings the bar a...</td>\n",
       "      <td>26</td>\n",
       "      <td>1</td>\n",
       "      <td>3.8</td>\n",
       "      <td>[' Leisure trip ', ' Solo traveler ', ' Duplex...</td>\n",
       "      <td>3 days</td>\n",
       "    </tr>\n",
       "    <tr>\n",
       "      <th>4</th>\n",
       "      <td>s Gravesandestraat 55 Oost 1092 AA Amsterdam ...</td>\n",
       "      <td>194</td>\n",
       "      <td>7/24/2017</td>\n",
       "      <td>7.7</td>\n",
       "      <td>Hotel Arena</td>\n",
       "      <td>New Zealand</td>\n",
       "      <td>You When I booked with your company on line y...</td>\n",
       "      <td>140</td>\n",
       "      <td>1403</td>\n",
       "      <td>Amazing location and building Romantic setting</td>\n",
       "      <td>8</td>\n",
       "      <td>3</td>\n",
       "      <td>6.7</td>\n",
       "      <td>[' Leisure trip ', ' Couple ', ' Suite ', ' St...</td>\n",
       "      <td>10 days</td>\n",
       "    </tr>\n",
       "  </tbody>\n",
       "</table>\n",
       "</div>"
      ],
      "text/plain": [
       "                                       Hotel_Address  \\\n",
       "0   s Gravesandestraat 55 Oost 1092 AA Amsterdam ...   \n",
       "1   s Gravesandestraat 55 Oost 1092 AA Amsterdam ...   \n",
       "2   s Gravesandestraat 55 Oost 1092 AA Amsterdam ...   \n",
       "3   s Gravesandestraat 55 Oost 1092 AA Amsterdam ...   \n",
       "4   s Gravesandestraat 55 Oost 1092 AA Amsterdam ...   \n",
       "\n",
       "   Additional_Number_of_Scoring Review_Date  Average_Score   Hotel_Name  \\\n",
       "0                           194    8/3/2017            7.7  Hotel Arena   \n",
       "1                           194    8/3/2017            7.7  Hotel Arena   \n",
       "2                           194   7/31/2017            7.7  Hotel Arena   \n",
       "3                           194   7/31/2017            7.7  Hotel Arena   \n",
       "4                           194   7/24/2017            7.7  Hotel Arena   \n",
       "\n",
       "  Reviewer_Nationality                                    Negative_Review  \\\n",
       "0              Russia    I am so angry that i made this post available...   \n",
       "1             Ireland                                         No Negative   \n",
       "2           Australia    Rooms are nice but for elderly a bit difficul...   \n",
       "3      United Kingdom    My room was dirty and I was afraid to walk ba...   \n",
       "4         New Zealand    You When I booked with your company on line y...   \n",
       "\n",
       "   Review_Total_Negative_Word_Counts  Total_Number_of_Reviews  \\\n",
       "0                                397                     1403   \n",
       "1                                  0                     1403   \n",
       "2                                 42                     1403   \n",
       "3                                210                     1403   \n",
       "4                                140                     1403   \n",
       "\n",
       "                                     Positive_Review  \\\n",
       "0   Only the park outside of the hotel was beauti...   \n",
       "1   No real complaints the hotel was great great ...   \n",
       "2   Location was good and staff were ok It is cut...   \n",
       "3   Great location in nice surroundings the bar a...   \n",
       "4    Amazing location and building Romantic setting    \n",
       "\n",
       "   Review_Total_Positive_Word_Counts  \\\n",
       "0                                 11   \n",
       "1                                105   \n",
       "2                                 21   \n",
       "3                                 26   \n",
       "4                                  8   \n",
       "\n",
       "   Total_Number_of_Reviews_Reviewer_Has_Given  Reviewer_Score  \\\n",
       "0                                           7             2.9   \n",
       "1                                           7             7.5   \n",
       "2                                           9             7.1   \n",
       "3                                           1             3.8   \n",
       "4                                           3             6.7   \n",
       "\n",
       "                                                Tags days_since_review  \n",
       "0  [' Leisure trip ', ' Couple ', ' Duplex Double...            0 days  \n",
       "1  [' Leisure trip ', ' Couple ', ' Duplex Double...            0 days  \n",
       "2  [' Leisure trip ', ' Family with young childre...            3 days  \n",
       "3  [' Leisure trip ', ' Solo traveler ', ' Duplex...            3 days  \n",
       "4  [' Leisure trip ', ' Couple ', ' Suite ', ' St...           10 days  "
      ]
     },
     "execution_count": 5,
     "metadata": {},
     "output_type": "execute_result"
    }
   ],
   "source": [
    "#drop lat and lng columns\n",
    "df = df.drop(['lat','lng'],axis=1, inplace=False)\n",
    "df.head()"
   ]
  },
  {
   "cell_type": "code",
   "execution_count": 6,
   "metadata": {},
   "outputs": [
    {
     "data": {
      "text/html": [
       "<div>\n",
       "<style scoped>\n",
       "    .dataframe tbody tr th:only-of-type {\n",
       "        vertical-align: middle;\n",
       "    }\n",
       "\n",
       "    .dataframe tbody tr th {\n",
       "        vertical-align: top;\n",
       "    }\n",
       "\n",
       "    .dataframe thead th {\n",
       "        text-align: right;\n",
       "    }\n",
       "</style>\n",
       "<table border=\"1\" class=\"dataframe\">\n",
       "  <thead>\n",
       "    <tr style=\"text-align: right;\">\n",
       "      <th></th>\n",
       "      <th>Hotel_Address</th>\n",
       "      <th>Additional_Number_of_Scoring</th>\n",
       "      <th>Review_Date</th>\n",
       "      <th>Average_Score</th>\n",
       "      <th>Hotel_Name</th>\n",
       "      <th>Reviewer_Nationality</th>\n",
       "      <th>Negative_Review</th>\n",
       "      <th>Review_Total_Negative_Word_Counts</th>\n",
       "      <th>Total_Number_of_Reviews</th>\n",
       "      <th>Positive_Review</th>\n",
       "      <th>Review_Total_Positive_Word_Counts</th>\n",
       "      <th>Total_Number_of_Reviews_Reviewer_Has_Given</th>\n",
       "      <th>Reviewer_Score</th>\n",
       "      <th>Tags</th>\n",
       "      <th>days_since_review</th>\n",
       "    </tr>\n",
       "  </thead>\n",
       "  <tbody>\n",
       "    <tr>\n",
       "      <th>515733</th>\n",
       "      <td>Wurzbachgasse 21 15 Rudolfsheim F nfhaus 1150 ...</td>\n",
       "      <td>168</td>\n",
       "      <td>8/30/2015</td>\n",
       "      <td>8.1</td>\n",
       "      <td>Atlantis Hotel Vienna</td>\n",
       "      <td>Kuwait</td>\n",
       "      <td>no trolly or staff to help you take the lugga...</td>\n",
       "      <td>14</td>\n",
       "      <td>2823</td>\n",
       "      <td>location</td>\n",
       "      <td>2</td>\n",
       "      <td>8</td>\n",
       "      <td>7.0</td>\n",
       "      <td>[' Leisure trip ', ' Family with older childre...</td>\n",
       "      <td>704 day</td>\n",
       "    </tr>\n",
       "    <tr>\n",
       "      <th>515734</th>\n",
       "      <td>Wurzbachgasse 21 15 Rudolfsheim F nfhaus 1150 ...</td>\n",
       "      <td>168</td>\n",
       "      <td>8/22/2015</td>\n",
       "      <td>8.1</td>\n",
       "      <td>Atlantis Hotel Vienna</td>\n",
       "      <td>Estonia</td>\n",
       "      <td>The hotel looks like 3 but surely not 4</td>\n",
       "      <td>11</td>\n",
       "      <td>2823</td>\n",
       "      <td>Breakfast was ok and we got earlier check in</td>\n",
       "      <td>11</td>\n",
       "      <td>12</td>\n",
       "      <td>5.8</td>\n",
       "      <td>[' Leisure trip ', ' Family with young childre...</td>\n",
       "      <td>712 day</td>\n",
       "    </tr>\n",
       "    <tr>\n",
       "      <th>515735</th>\n",
       "      <td>Wurzbachgasse 21 15 Rudolfsheim F nfhaus 1150 ...</td>\n",
       "      <td>168</td>\n",
       "      <td>8/19/2015</td>\n",
       "      <td>8.1</td>\n",
       "      <td>Atlantis Hotel Vienna</td>\n",
       "      <td>Egypt</td>\n",
       "      <td>The ac was useless It was a hot week in vienn...</td>\n",
       "      <td>19</td>\n",
       "      <td>2823</td>\n",
       "      <td>No Positive</td>\n",
       "      <td>0</td>\n",
       "      <td>3</td>\n",
       "      <td>2.5</td>\n",
       "      <td>[' Leisure trip ', ' Family with older childre...</td>\n",
       "      <td>715 day</td>\n",
       "    </tr>\n",
       "    <tr>\n",
       "      <th>515736</th>\n",
       "      <td>Wurzbachgasse 21 15 Rudolfsheim F nfhaus 1150 ...</td>\n",
       "      <td>168</td>\n",
       "      <td>8/17/2015</td>\n",
       "      <td>8.1</td>\n",
       "      <td>Atlantis Hotel Vienna</td>\n",
       "      <td>Mexico</td>\n",
       "      <td>No Negative</td>\n",
       "      <td>0</td>\n",
       "      <td>2823</td>\n",
       "      <td>The rooms are enormous and really comfortable...</td>\n",
       "      <td>25</td>\n",
       "      <td>3</td>\n",
       "      <td>8.8</td>\n",
       "      <td>[' Leisure trip ', ' Group ', ' Standard Tripl...</td>\n",
       "      <td>717 day</td>\n",
       "    </tr>\n",
       "    <tr>\n",
       "      <th>515737</th>\n",
       "      <td>Wurzbachgasse 21 15 Rudolfsheim F nfhaus 1150 ...</td>\n",
       "      <td>168</td>\n",
       "      <td>8/9/2015</td>\n",
       "      <td>8.1</td>\n",
       "      <td>Atlantis Hotel Vienna</td>\n",
       "      <td>Hungary</td>\n",
       "      <td>I was in 3rd floor It didn t work Free Wife</td>\n",
       "      <td>13</td>\n",
       "      <td>2823</td>\n",
       "      <td>staff was very kind</td>\n",
       "      <td>6</td>\n",
       "      <td>1</td>\n",
       "      <td>8.3</td>\n",
       "      <td>[' Leisure trip ', ' Family with young childre...</td>\n",
       "      <td>725 day</td>\n",
       "    </tr>\n",
       "  </tbody>\n",
       "</table>\n",
       "</div>"
      ],
      "text/plain": [
       "                                            Hotel_Address  \\\n",
       "515733  Wurzbachgasse 21 15 Rudolfsheim F nfhaus 1150 ...   \n",
       "515734  Wurzbachgasse 21 15 Rudolfsheim F nfhaus 1150 ...   \n",
       "515735  Wurzbachgasse 21 15 Rudolfsheim F nfhaus 1150 ...   \n",
       "515736  Wurzbachgasse 21 15 Rudolfsheim F nfhaus 1150 ...   \n",
       "515737  Wurzbachgasse 21 15 Rudolfsheim F nfhaus 1150 ...   \n",
       "\n",
       "        Additional_Number_of_Scoring Review_Date  Average_Score  \\\n",
       "515733                           168   8/30/2015            8.1   \n",
       "515734                           168   8/22/2015            8.1   \n",
       "515735                           168   8/19/2015            8.1   \n",
       "515736                           168   8/17/2015            8.1   \n",
       "515737                           168    8/9/2015            8.1   \n",
       "\n",
       "                   Hotel_Name Reviewer_Nationality  \\\n",
       "515733  Atlantis Hotel Vienna              Kuwait    \n",
       "515734  Atlantis Hotel Vienna             Estonia    \n",
       "515735  Atlantis Hotel Vienna               Egypt    \n",
       "515736  Atlantis Hotel Vienna              Mexico    \n",
       "515737  Atlantis Hotel Vienna             Hungary    \n",
       "\n",
       "                                          Negative_Review  \\\n",
       "515733   no trolly or staff to help you take the lugga...   \n",
       "515734           The hotel looks like 3 but surely not 4    \n",
       "515735   The ac was useless It was a hot week in vienn...   \n",
       "515736                                        No Negative   \n",
       "515737       I was in 3rd floor It didn t work Free Wife    \n",
       "\n",
       "        Review_Total_Negative_Word_Counts  Total_Number_of_Reviews  \\\n",
       "515733                                 14                     2823   \n",
       "515734                                 11                     2823   \n",
       "515735                                 19                     2823   \n",
       "515736                                  0                     2823   \n",
       "515737                                 13                     2823   \n",
       "\n",
       "                                          Positive_Review  \\\n",
       "515733                                           location   \n",
       "515734      Breakfast was ok and we got earlier check in    \n",
       "515735                                        No Positive   \n",
       "515736   The rooms are enormous and really comfortable...   \n",
       "515737                               staff was very kind    \n",
       "\n",
       "        Review_Total_Positive_Word_Counts  \\\n",
       "515733                                  2   \n",
       "515734                                 11   \n",
       "515735                                  0   \n",
       "515736                                 25   \n",
       "515737                                  6   \n",
       "\n",
       "        Total_Number_of_Reviews_Reviewer_Has_Given  Reviewer_Score  \\\n",
       "515733                                           8             7.0   \n",
       "515734                                          12             5.8   \n",
       "515735                                           3             2.5   \n",
       "515736                                           3             8.8   \n",
       "515737                                           1             8.3   \n",
       "\n",
       "                                                     Tags days_since_review  \n",
       "515733  [' Leisure trip ', ' Family with older childre...           704 day  \n",
       "515734  [' Leisure trip ', ' Family with young childre...           712 day  \n",
       "515735  [' Leisure trip ', ' Family with older childre...           715 day  \n",
       "515736  [' Leisure trip ', ' Group ', ' Standard Tripl...           717 day  \n",
       "515737  [' Leisure trip ', ' Family with young childre...           725 day  "
      ]
     },
     "execution_count": 6,
     "metadata": {},
     "output_type": "execute_result"
    }
   ],
   "source": [
    "#view last 5 lines\n",
    "df.tail()"
   ]
  },
  {
   "cell_type": "markdown",
   "metadata": {},
   "source": [
    "We are going to find out where the 1,493 hotels in our dataset are located."
   ]
  },
  {
   "cell_type": "markdown",
   "metadata": {},
   "source": [
    "Because one of the countries is 'United Kingdom', we will first replace it by the 'UK' for ease of future analysis."
   ]
  },
  {
   "cell_type": "code",
   "execution_count": 7,
   "metadata": {
    "scrolled": false
   },
   "outputs": [],
   "source": [
    "#replace 'United Kingdom' with 'UK'\n",
    "df.Hotel_Address = df.Hotel_Address.str.replace('United Kingdom','UK')"
   ]
  },
  {
   "cell_type": "code",
   "execution_count": 8,
   "metadata": {
    "scrolled": true
   },
   "outputs": [
    {
     "data": {
      "text/plain": [
       "UK             262301\n",
       "Spain           60149\n",
       "France          59928\n",
       "Netherlands     57214\n",
       "Austria         38939\n",
       "Italy           37207\n",
       "Name: Country, dtype: int64"
      ]
     },
     "execution_count": 8,
     "metadata": {},
     "output_type": "execute_result"
    }
   ],
   "source": [
    "#create a new feature - country\n",
    "df['Country'] = df.Hotel_Address.apply(lambda x: x.split(' ')[-1])\n",
    "df['Country'].value_counts()"
   ]
  },
  {
   "cell_type": "markdown",
   "metadata": {},
   "source": [
    "## Explore The Data"
   ]
  },
  {
   "cell_type": "markdown",
   "metadata": {},
   "source": [
    "We can learn a lot from the data simply by visualizing the variables before we move to the modeling stage. \n",
    "\n",
    "Let's visualize the distribution of hotels per country."
   ]
  },
  {
   "cell_type": "code",
   "execution_count": 9,
   "metadata": {
    "scrolled": true
   },
   "outputs": [
    {
     "data": {
      "text/plain": [
       "<matplotlib.axes._subplots.AxesSubplot at 0x1a23aa9dd8>"
      ]
     },
     "execution_count": 9,
     "metadata": {},
     "output_type": "execute_result"
    },
    {
     "data": {
      "image/png": "[encoded data removed]",
      "text/plain": [
       "<Figure size 2160x432 with 1 Axes>"
      ]
     },
     "metadata": {
      "needs_background": "light"
     },
     "output_type": "display_data"
    }
   ],
   "source": [
    "#visualize the distribution of hotels per country in the dataset\n",
    "plt.figure(figsize = (30,6))\n",
    "plt.title('Hotel / Country')\n",
    "df.Country.value_counts().plot.barh(color = 'blue')"
   ]
  },
  {
   "cell_type": "markdown",
   "metadata": {},
   "source": [
    "As seen in the plot, all the hotels in the data set are located in 6 European countries, and most of the hotels are located in the UK.\n",
    "\n",
    "We can dig deeper and also look at the cities where the hotels are located."
   ]
  },
  {
   "cell_type": "code",
   "execution_count": 10,
   "metadata": {},
   "outputs": [
    {
     "data": {
      "text/plain": [
       "Barcelona    60149\n",
       "Paris        59928\n",
       "Amsterdam    57214\n",
       "Vienna       38939\n",
       "Milan        37207\n",
       "9SJ           4789\n",
       "0JJ           4256\n",
       "7UT           4169\n",
       "5SY           3578\n",
       "3AN           3285\n",
       "4AF           3212\n",
       "3JP           2958\n",
       "5SP           2768\n",
       "1JU           2628\n",
       "4LH           2565\n",
       "0TW           2551\n",
       "9PD           2369\n",
       "3DP           2288\n",
       "0BU           2227\n",
       "7RY           2223\n",
       "6AF           2203\n",
       "7TJ           2167\n",
       "1JS           2155\n",
       "5HW           2147\n",
       "0QQ           2059\n",
       "4DD           2043\n",
       "3LB           1971\n",
       "3LG           1938\n",
       "8DS           1848\n",
       "4UL           1845\n",
       "             ...  \n",
       "2EU            101\n",
       "7RL            100\n",
       "2NG             99\n",
       "4JE             95\n",
       "3EG             87\n",
       "5DL             86\n",
       "9NX             86\n",
       "7LA             85\n",
       "7JD             84\n",
       "7JB             82\n",
       "7AA             78\n",
       "7LY             77\n",
       "9PY             76\n",
       "2BX             76\n",
       "9HB             74\n",
       "1NY             74\n",
       "1AS             63\n",
       "2JR             62\n",
       "5JT             49\n",
       "4BP             49\n",
       "2AL             45\n",
       "0AE             40\n",
       "1DW             37\n",
       "4JJ             31\n",
       "4PJ             30\n",
       "7DJ             29\n",
       "1PN             28\n",
       "2DB             28\n",
       "8QH             27\n",
       "7DD             12\n",
       "Name: City, Length: 373, dtype: int64"
      ]
     },
     "execution_count": 10,
     "metadata": {},
     "output_type": "execute_result"
    }
   ],
   "source": [
    "#create a new feature - city\n",
    "df['City'] = df.Hotel_Address.apply(lambda x: x.split(' ')[-2])\n",
    "df['City'].value_counts()"
   ]
  },
  {
   "cell_type": "markdown",
   "metadata": {},
   "source": [
    "Hmmm, turns out the UK addresses have the zipcode following the name of the city. Let's see what we can do with that."
   ]
  },
  {
   "cell_type": "code",
   "execution_count": 11,
   "metadata": {},
   "outputs": [
    {
     "data": {
      "text/plain": [
       "London       262301\n",
       "Barcelona     60149\n",
       "Paris         59928\n",
       "Amsterdam     57214\n",
       "Vienna        38939\n",
       "Milan         37207\n",
       "Name: City, dtype: int64"
      ]
     },
     "execution_count": 11,
     "metadata": {},
     "output_type": "execute_result"
    }
   ],
   "source": [
    "df['City'].loc[df['Country'] == 'UK'] = df.Hotel_Address.apply(lambda x: x.split(' ')[-4])\n",
    "df['City'].value_counts()"
   ]
  },
  {
   "cell_type": "markdown",
   "metadata": {},
   "source": [
    "Nothing unusual here, each country is represented by the most touristy city."
   ]
  },
  {
   "cell_type": "markdown",
   "metadata": {},
   "source": [
    "Next, we are going to find out the top 10 most and least popular hotels from the dataset."
   ]
  },
  {
   "cell_type": "code",
   "execution_count": 12,
   "metadata": {
    "scrolled": true
   },
   "outputs": [
    {
     "data": {
      "text/html": [
       "<div>\n",
       "<style scoped>\n",
       "    .dataframe tbody tr th:only-of-type {\n",
       "        vertical-align: middle;\n",
       "    }\n",
       "\n",
       "    .dataframe tbody tr th {\n",
       "        vertical-align: top;\n",
       "    }\n",
       "\n",
       "    .dataframe thead th {\n",
       "        text-align: right;\n",
       "    }\n",
       "</style>\n",
       "<table border=\"1\" class=\"dataframe\">\n",
       "  <thead>\n",
       "    <tr style=\"text-align: right;\">\n",
       "      <th></th>\n",
       "      <th>Hotel_Name</th>\n",
       "      <th>Average_Score</th>\n",
       "      <th>Total_Number_of_Reviews</th>\n",
       "      <th>City</th>\n",
       "    </tr>\n",
       "  </thead>\n",
       "  <tbody>\n",
       "    <tr>\n",
       "      <th>54717</th>\n",
       "      <td>Ritz Paris</td>\n",
       "      <td>9.8</td>\n",
       "      <td>122</td>\n",
       "      <td>Paris</td>\n",
       "    </tr>\n",
       "    <tr>\n",
       "      <th>185602</th>\n",
       "      <td>41</td>\n",
       "      <td>9.6</td>\n",
       "      <td>244</td>\n",
       "      <td>London</td>\n",
       "    </tr>\n",
       "    <tr>\n",
       "      <th>14708</th>\n",
       "      <td>Haymarket Hotel</td>\n",
       "      <td>9.6</td>\n",
       "      <td>255</td>\n",
       "      <td>London</td>\n",
       "    </tr>\n",
       "    <tr>\n",
       "      <th>176997</th>\n",
       "      <td>H tel de La Tamise Esprit de France</td>\n",
       "      <td>9.6</td>\n",
       "      <td>166</td>\n",
       "      <td>Paris</td>\n",
       "    </tr>\n",
       "    <tr>\n",
       "      <th>402244</th>\n",
       "      <td>H10 Casa Mimosa 4 Sup</td>\n",
       "      <td>9.6</td>\n",
       "      <td>454</td>\n",
       "      <td>Barcelona</td>\n",
       "    </tr>\n",
       "    <tr>\n",
       "      <th>398945</th>\n",
       "      <td>Hotel The Serras</td>\n",
       "      <td>9.6</td>\n",
       "      <td>604</td>\n",
       "      <td>Barcelona</td>\n",
       "    </tr>\n",
       "    <tr>\n",
       "      <th>316447</th>\n",
       "      <td>Hotel Casa Camper</td>\n",
       "      <td>9.6</td>\n",
       "      <td>732</td>\n",
       "      <td>Barcelona</td>\n",
       "    </tr>\n",
       "    <tr>\n",
       "      <th>390999</th>\n",
       "      <td>Ham Yard Hotel</td>\n",
       "      <td>9.5</td>\n",
       "      <td>314</td>\n",
       "      <td>London</td>\n",
       "    </tr>\n",
       "    <tr>\n",
       "      <th>299896</th>\n",
       "      <td>Palais Coburg Residenz</td>\n",
       "      <td>9.5</td>\n",
       "      <td>98</td>\n",
       "      <td>Vienna</td>\n",
       "    </tr>\n",
       "    <tr>\n",
       "      <th>81043</th>\n",
       "      <td>Hotel The Peninsula Paris</td>\n",
       "      <td>9.5</td>\n",
       "      <td>275</td>\n",
       "      <td>Paris</td>\n",
       "    </tr>\n",
       "  </tbody>\n",
       "</table>\n",
       "</div>"
      ],
      "text/plain": [
       "                                 Hotel_Name  Average_Score  \\\n",
       "54717                            Ritz Paris            9.8   \n",
       "185602                                   41            9.6   \n",
       "14708                       Haymarket Hotel            9.6   \n",
       "176997  H tel de La Tamise Esprit de France            9.6   \n",
       "402244                H10 Casa Mimosa 4 Sup            9.6   \n",
       "398945                     Hotel The Serras            9.6   \n",
       "316447                    Hotel Casa Camper            9.6   \n",
       "390999                       Ham Yard Hotel            9.5   \n",
       "299896               Palais Coburg Residenz            9.5   \n",
       "81043             Hotel The Peninsula Paris            9.5   \n",
       "\n",
       "        Total_Number_of_Reviews       City  \n",
       "54717                       122      Paris  \n",
       "185602                      244     London  \n",
       "14708                       255     London  \n",
       "176997                      166      Paris  \n",
       "402244                      454  Barcelona  \n",
       "398945                      604  Barcelona  \n",
       "316447                      732  Barcelona  \n",
       "390999                      314     London  \n",
       "299896                       98     Vienna  \n",
       "81043                       275      Paris  "
      ]
     },
     "execution_count": 12,
     "metadata": {},
     "output_type": "execute_result"
    }
   ],
   "source": [
    "#top 10 lowest scoring hotels\n",
    "df[df.Average_Score >= 8.8][['Hotel_Name','Average_Score','Total_Number_of_Reviews','City']].drop_duplicates().sort_values(by ='Average_Score',ascending = False)[:10]"
   ]
  },
  {
   "cell_type": "code",
   "execution_count": 13,
   "metadata": {
    "scrolled": true
   },
   "outputs": [
    {
     "data": {
      "text/html": [
       "<div>\n",
       "<style scoped>\n",
       "    .dataframe tbody tr th:only-of-type {\n",
       "        vertical-align: middle;\n",
       "    }\n",
       "\n",
       "    .dataframe tbody tr th {\n",
       "        vertical-align: top;\n",
       "    }\n",
       "\n",
       "    .dataframe thead th {\n",
       "        text-align: right;\n",
       "    }\n",
       "</style>\n",
       "<table border=\"1\" class=\"dataframe\">\n",
       "  <thead>\n",
       "    <tr style=\"text-align: right;\">\n",
       "      <th></th>\n",
       "      <th>Hotel_Name</th>\n",
       "      <th>Average_Score</th>\n",
       "      <th>Total_Number_of_Reviews</th>\n",
       "      <th>City</th>\n",
       "    </tr>\n",
       "  </thead>\n",
       "  <tbody>\n",
       "    <tr>\n",
       "      <th>494791</th>\n",
       "      <td>Hotel Liberty</td>\n",
       "      <td>5.2</td>\n",
       "      <td>465</td>\n",
       "      <td>Milan</td>\n",
       "    </tr>\n",
       "    <tr>\n",
       "      <th>323302</th>\n",
       "      <td>Savoy Hotel Amsterdam</td>\n",
       "      <td>6.4</td>\n",
       "      <td>995</td>\n",
       "      <td>Amsterdam</td>\n",
       "    </tr>\n",
       "    <tr>\n",
       "      <th>242324</th>\n",
       "      <td>Hotel Cavendish</td>\n",
       "      <td>6.4</td>\n",
       "      <td>2275</td>\n",
       "      <td>London</td>\n",
       "    </tr>\n",
       "    <tr>\n",
       "      <th>129781</th>\n",
       "      <td>The Tophams Hotel</td>\n",
       "      <td>6.6</td>\n",
       "      <td>411</td>\n",
       "      <td>London</td>\n",
       "    </tr>\n",
       "    <tr>\n",
       "      <th>157843</th>\n",
       "      <td>Best Western Maitrise Hotel Edgware Road</td>\n",
       "      <td>6.6</td>\n",
       "      <td>461</td>\n",
       "      <td>London</td>\n",
       "    </tr>\n",
       "    <tr>\n",
       "      <th>485009</th>\n",
       "      <td>Ibis Styles Milano Palmanova</td>\n",
       "      <td>6.7</td>\n",
       "      <td>207</td>\n",
       "      <td>Milan</td>\n",
       "    </tr>\n",
       "    <tr>\n",
       "      <th>204614</th>\n",
       "      <td>Commodore Hotel</td>\n",
       "      <td>6.7</td>\n",
       "      <td>2400</td>\n",
       "      <td>London</td>\n",
       "    </tr>\n",
       "    <tr>\n",
       "      <th>68936</th>\n",
       "      <td>Villa Eugenie</td>\n",
       "      <td>6.8</td>\n",
       "      <td>165</td>\n",
       "      <td>Paris</td>\n",
       "    </tr>\n",
       "    <tr>\n",
       "      <th>130789</th>\n",
       "      <td>Bloomsbury Palace Hotel</td>\n",
       "      <td>6.8</td>\n",
       "      <td>2751</td>\n",
       "      <td>London</td>\n",
       "    </tr>\n",
       "    <tr>\n",
       "      <th>475738</th>\n",
       "      <td>Idea Hotel Milano San Siro</td>\n",
       "      <td>6.9</td>\n",
       "      <td>5742</td>\n",
       "      <td>Milan</td>\n",
       "    </tr>\n",
       "  </tbody>\n",
       "</table>\n",
       "</div>"
      ],
      "text/plain": [
       "                                      Hotel_Name  Average_Score  \\\n",
       "494791                             Hotel Liberty            5.2   \n",
       "323302                     Savoy Hotel Amsterdam            6.4   \n",
       "242324                           Hotel Cavendish            6.4   \n",
       "129781                         The Tophams Hotel            6.6   \n",
       "157843  Best Western Maitrise Hotel Edgware Road            6.6   \n",
       "485009              Ibis Styles Milano Palmanova            6.7   \n",
       "204614                           Commodore Hotel            6.7   \n",
       "68936                              Villa Eugenie            6.8   \n",
       "130789                   Bloomsbury Palace Hotel            6.8   \n",
       "475738                Idea Hotel Milano San Siro            6.9   \n",
       "\n",
       "        Total_Number_of_Reviews       City  \n",
       "494791                      465      Milan  \n",
       "323302                      995  Amsterdam  \n",
       "242324                     2275     London  \n",
       "129781                      411     London  \n",
       "157843                      461     London  \n",
       "485009                      207      Milan  \n",
       "204614                     2400     London  \n",
       "68936                       165      Paris  \n",
       "130789                     2751     London  \n",
       "475738                     5742      Milan  "
      ]
     },
     "execution_count": 13,
     "metadata": {},
     "output_type": "execute_result"
    }
   ],
   "source": [
    "#top 10 lowest scoring hotels\n",
    "df[df.Average_Score <= 8.8][['Hotel_Name','Average_Score','Total_Number_of_Reviews','City']].drop_duplicates().sort_values(by ='Average_Score',ascending = True)[:10]"
   ]
  },
  {
   "cell_type": "code",
   "execution_count": 14,
   "metadata": {
    "scrolled": true
   },
   "outputs": [
    {
     "data": {
      "text/html": [
       "<div>\n",
       "<style scoped>\n",
       "    .dataframe tbody tr th:only-of-type {\n",
       "        vertical-align: middle;\n",
       "    }\n",
       "\n",
       "    .dataframe tbody tr th {\n",
       "        vertical-align: top;\n",
       "    }\n",
       "\n",
       "    .dataframe thead th {\n",
       "        text-align: right;\n",
       "    }\n",
       "</style>\n",
       "<table border=\"1\" class=\"dataframe\">\n",
       "  <thead>\n",
       "    <tr style=\"text-align: right;\">\n",
       "      <th></th>\n",
       "      <th>Hotel_Name</th>\n",
       "      <th>Average_Score</th>\n",
       "      <th>Total_Number_of_Reviews</th>\n",
       "      <th>City</th>\n",
       "    </tr>\n",
       "  </thead>\n",
       "  <tbody>\n",
       "    <tr>\n",
       "      <th>488409</th>\n",
       "      <td>Hotel Da Vinci</td>\n",
       "      <td>8.1</td>\n",
       "      <td>16670</td>\n",
       "      <td>Milan</td>\n",
       "    </tr>\n",
       "    <tr>\n",
       "      <th>504027</th>\n",
       "      <td>Park Plaza Westminster Bridge London</td>\n",
       "      <td>8.7</td>\n",
       "      <td>12158</td>\n",
       "      <td>London</td>\n",
       "    </tr>\n",
       "    <tr>\n",
       "      <th>496065</th>\n",
       "      <td>Hotel degli Arcimboldi</td>\n",
       "      <td>8.3</td>\n",
       "      <td>10842</td>\n",
       "      <td>Milan</td>\n",
       "    </tr>\n",
       "    <tr>\n",
       "      <th>164259</th>\n",
       "      <td>Strand Palace Hotel</td>\n",
       "      <td>8.1</td>\n",
       "      <td>9568</td>\n",
       "      <td>London</td>\n",
       "    </tr>\n",
       "    <tr>\n",
       "      <th>63942</th>\n",
       "      <td>Britannia International Hotel Canary Wharf</td>\n",
       "      <td>7.1</td>\n",
       "      <td>9086</td>\n",
       "      <td>London</td>\n",
       "    </tr>\n",
       "    <tr>\n",
       "      <th>311000</th>\n",
       "      <td>Best Western Premier Hotel Couture</td>\n",
       "      <td>8.7</td>\n",
       "      <td>8177</td>\n",
       "      <td>Amsterdam</td>\n",
       "    </tr>\n",
       "    <tr>\n",
       "      <th>509232</th>\n",
       "      <td>The Student Hotel Amsterdam City</td>\n",
       "      <td>8.7</td>\n",
       "      <td>7656</td>\n",
       "      <td>Amsterdam</td>\n",
       "    </tr>\n",
       "    <tr>\n",
       "      <th>379680</th>\n",
       "      <td>Golden Tulip Amsterdam West</td>\n",
       "      <td>8.5</td>\n",
       "      <td>7586</td>\n",
       "      <td>Amsterdam</td>\n",
       "    </tr>\n",
       "    <tr>\n",
       "      <th>236055</th>\n",
       "      <td>DoubleTree by Hilton Hotel London Tower of London</td>\n",
       "      <td>8.7</td>\n",
       "      <td>7491</td>\n",
       "      <td>London</td>\n",
       "    </tr>\n",
       "    <tr>\n",
       "      <th>404728</th>\n",
       "      <td>Glam Milano</td>\n",
       "      <td>8.8</td>\n",
       "      <td>7371</td>\n",
       "      <td>Milan</td>\n",
       "    </tr>\n",
       "  </tbody>\n",
       "</table>\n",
       "</div>"
      ],
      "text/plain": [
       "                                               Hotel_Name  Average_Score  \\\n",
       "488409                                     Hotel Da Vinci            8.1   \n",
       "504027               Park Plaza Westminster Bridge London            8.7   \n",
       "496065                             Hotel degli Arcimboldi            8.3   \n",
       "164259                                Strand Palace Hotel            8.1   \n",
       "63942          Britannia International Hotel Canary Wharf            7.1   \n",
       "311000                 Best Western Premier Hotel Couture            8.7   \n",
       "509232                   The Student Hotel Amsterdam City            8.7   \n",
       "379680                        Golden Tulip Amsterdam West            8.5   \n",
       "236055  DoubleTree by Hilton Hotel London Tower of London            8.7   \n",
       "404728                                        Glam Milano            8.8   \n",
       "\n",
       "        Total_Number_of_Reviews       City  \n",
       "488409                    16670      Milan  \n",
       "504027                    12158     London  \n",
       "496065                    10842      Milan  \n",
       "164259                     9568     London  \n",
       "63942                      9086     London  \n",
       "311000                     8177  Amsterdam  \n",
       "509232                     7656  Amsterdam  \n",
       "379680                     7586  Amsterdam  \n",
       "236055                     7491     London  \n",
       "404728                     7371      Milan  "
      ]
     },
     "execution_count": 14,
     "metadata": {},
     "output_type": "execute_result"
    }
   ],
   "source": [
    "#top 10 most reviewed hotels\n",
    "df[['Hotel_Name','Average_Score','Total_Number_of_Reviews','City']].drop_duplicates().sort_values(by ='Total_Number_of_Reviews',ascending =False)[:10]"
   ]
  },
  {
   "cell_type": "code",
   "execution_count": 15,
   "metadata": {},
   "outputs": [
    {
     "data": {
      "text/html": [
       "<div>\n",
       "<style scoped>\n",
       "    .dataframe tbody tr th:only-of-type {\n",
       "        vertical-align: middle;\n",
       "    }\n",
       "\n",
       "    .dataframe tbody tr th {\n",
       "        vertical-align: top;\n",
       "    }\n",
       "\n",
       "    .dataframe thead th {\n",
       "        text-align: right;\n",
       "    }\n",
       "</style>\n",
       "<table border=\"1\" class=\"dataframe\">\n",
       "  <thead>\n",
       "    <tr style=\"text-align: right;\">\n",
       "      <th></th>\n",
       "      <th>Hotel_Name</th>\n",
       "      <th>Average_Score</th>\n",
       "      <th>Total_Number_of_Reviews</th>\n",
       "      <th>City</th>\n",
       "    </tr>\n",
       "  </thead>\n",
       "  <tbody>\n",
       "    <tr>\n",
       "      <th>250467</th>\n",
       "      <td>Hotel Daniel Paris</td>\n",
       "      <td>8.8</td>\n",
       "      <td>43</td>\n",
       "      <td>Paris</td>\n",
       "    </tr>\n",
       "    <tr>\n",
       "      <th>85168</th>\n",
       "      <td>Boundary Rooms Suites</td>\n",
       "      <td>8.4</td>\n",
       "      <td>45</td>\n",
       "      <td>London</td>\n",
       "    </tr>\n",
       "    <tr>\n",
       "      <th>122487</th>\n",
       "      <td>XO Hotel</td>\n",
       "      <td>8.9</td>\n",
       "      <td>49</td>\n",
       "      <td>Paris</td>\n",
       "    </tr>\n",
       "    <tr>\n",
       "      <th>48780</th>\n",
       "      <td>The Henrietta Hotel</td>\n",
       "      <td>9.2</td>\n",
       "      <td>49</td>\n",
       "      <td>London</td>\n",
       "    </tr>\n",
       "    <tr>\n",
       "      <th>250308</th>\n",
       "      <td>MARQUIS Faubourg St Honor Relais Ch teaux</td>\n",
       "      <td>8.6</td>\n",
       "      <td>51</td>\n",
       "      <td>Paris</td>\n",
       "    </tr>\n",
       "    <tr>\n",
       "      <th>180537</th>\n",
       "      <td>Renaissance Paris Republique Hotel Spa</td>\n",
       "      <td>8.5</td>\n",
       "      <td>54</td>\n",
       "      <td>Paris</td>\n",
       "    </tr>\n",
       "    <tr>\n",
       "      <th>191756</th>\n",
       "      <td>The Curtain</td>\n",
       "      <td>9.1</td>\n",
       "      <td>59</td>\n",
       "      <td>London</td>\n",
       "    </tr>\n",
       "    <tr>\n",
       "      <th>71594</th>\n",
       "      <td>Villa d Estr es</td>\n",
       "      <td>8.7</td>\n",
       "      <td>59</td>\n",
       "      <td>Paris</td>\n",
       "    </tr>\n",
       "    <tr>\n",
       "      <th>78350</th>\n",
       "      <td>Splendide Royal Paris</td>\n",
       "      <td>9.4</td>\n",
       "      <td>59</td>\n",
       "      <td>Paris</td>\n",
       "    </tr>\n",
       "    <tr>\n",
       "      <th>89963</th>\n",
       "      <td>Hotel Dupond Smith</td>\n",
       "      <td>9.3</td>\n",
       "      <td>60</td>\n",
       "      <td>Paris</td>\n",
       "    </tr>\n",
       "  </tbody>\n",
       "</table>\n",
       "</div>"
      ],
      "text/plain": [
       "                                       Hotel_Name  Average_Score  \\\n",
       "250467                         Hotel Daniel Paris            8.8   \n",
       "85168                       Boundary Rooms Suites            8.4   \n",
       "122487                                   XO Hotel            8.9   \n",
       "48780                         The Henrietta Hotel            9.2   \n",
       "250308  MARQUIS Faubourg St Honor Relais Ch teaux            8.6   \n",
       "180537     Renaissance Paris Republique Hotel Spa            8.5   \n",
       "191756                                The Curtain            9.1   \n",
       "71594                             Villa d Estr es            8.7   \n",
       "78350                       Splendide Royal Paris            9.4   \n",
       "89963                          Hotel Dupond Smith            9.3   \n",
       "\n",
       "        Total_Number_of_Reviews    City  \n",
       "250467                       43   Paris  \n",
       "85168                        45  London  \n",
       "122487                       49   Paris  \n",
       "48780                        49  London  \n",
       "250308                       51   Paris  \n",
       "180537                       54   Paris  \n",
       "191756                       59  London  \n",
       "71594                        59   Paris  \n",
       "78350                        59   Paris  \n",
       "89963                        60   Paris  "
      ]
     },
     "execution_count": 15,
     "metadata": {},
     "output_type": "execute_result"
    }
   ],
   "source": [
    "#top 10 least reviewed hotels\n",
    "df[['Hotel_Name','Average_Score','Total_Number_of_Reviews','City']].drop_duplicates().sort_values(by ='Total_Number_of_Reviews',ascending =True)[:10]"
   ]
  },
  {
   "cell_type": "markdown",
   "metadata": {},
   "source": [
    "Now that we know a little more about the hotels, let's take a closer look at who our reviewers are."
   ]
  },
  {
   "cell_type": "code",
   "execution_count": 16,
   "metadata": {
    "scrolled": true
   },
   "outputs": [
    {
     "data": {
      "text/plain": [
       " United Kingdom                    245246\n",
       " United States of America           35437\n",
       " Australia                          21686\n",
       " Ireland                            14827\n",
       " United Arab Emirates               10235\n",
       " Saudi Arabia                        8951\n",
       " Netherlands                         8772\n",
       " Switzerland                         8678\n",
       " Germany                             7941\n",
       " Canada                              7894\n",
       " France                              7296\n",
       " Israel                              6610\n",
       " Italy                               6114\n",
       " Belgium                             6031\n",
       " Turkey                              5444\n",
       " Kuwait                              4920\n",
       " Spain                               4737\n",
       " Romania                             4552\n",
       " Russia                              3900\n",
       " South Africa                        3821\n",
       " India                               3437\n",
       " Greece                              3406\n",
       " China                               3400\n",
       " Sweden                              3368\n",
       " New Zealand                         3237\n",
       " Singapore                           3091\n",
       " Hong Kong                           3013\n",
       " Poland                              2891\n",
       " Qatar                               2757\n",
       " Austria                             2412\n",
       "                                    ...  \n",
       " San Marino                             3\n",
       " Bonaire St Eustatius and Saba          3\n",
       " French Polynesia                       3\n",
       " Lesotho                                3\n",
       " Central Africa Republic                3\n",
       " Burundi                                3\n",
       " Antarctica                             3\n",
       " Grenada                                3\n",
       " Cocos K I                              2\n",
       " Equatorial Guinea                      2\n",
       " Kiribati                               2\n",
       " South Sudan                            2\n",
       " Saint Vincent Grenadines               2\n",
       " Djibouti                               2\n",
       " Eritrea                                2\n",
       " Niger                                  2\n",
       " Montserrat                             2\n",
       " St Pierre and Miquelon                 2\n",
       " Wallis and Futuna                      2\n",
       " Cook Islands                           2\n",
       " American Samoa                         2\n",
       " Northern Mariana Islands               1\n",
       " Vatican City                           1\n",
       " Guinea                                 1\n",
       " Palau                                  1\n",
       " Cape Verde                             1\n",
       " Anguilla                               1\n",
       " Comoros                                1\n",
       " Tuvalu                                 1\n",
       " Svalbard Jan Mayen                     1\n",
       "Name: Reviewer_Nationality, Length: 227, dtype: int64"
      ]
     },
     "execution_count": 16,
     "metadata": {},
     "output_type": "execute_result"
    }
   ],
   "source": [
    "#see reviewer nationality distribution\n",
    "df['Reviewer_Nationality'].value_counts()"
   ]
  },
  {
   "cell_type": "markdown",
   "metadata": {},
   "source": [
    "With 227 nationalities represented, reviewers pretty much cover the whole world. The most active travellers and reviewers are guests from the UK, followed by the US, Australia, Ireland, and United Arab Emirates."
   ]
  },
  {
   "cell_type": "markdown",
   "metadata": {},
   "source": [
    "Now, we are going to see how active the customers were, and how many reivews they have submitted."
   ]
  },
  {
   "cell_type": "code",
   "execution_count": 17,
   "metadata": {
    "scrolled": true
   },
   "outputs": [
    {
     "data": {
      "text/plain": [
       "1      154640\n",
       "2       67077\n",
       "3       46845\n",
       "4       35026\n",
       "5       27629\n",
       "6       22621\n",
       "7       18614\n",
       "8       16150\n",
       "9       13545\n",
       "10      11717\n",
       "11       9992\n",
       "12       9002\n",
       "13       7765\n",
       "14       6762\n",
       "15       5929\n",
       "16       5385\n",
       "17       4865\n",
       "18       4394\n",
       "19       3806\n",
       "20       3428\n",
       "21       3211\n",
       "22       2879\n",
       "23       2678\n",
       "24       2345\n",
       "25       2120\n",
       "26       2016\n",
       "27       1631\n",
       "28       1562\n",
       "29       1437\n",
       "31       1378\n",
       "        ...  \n",
       "281         2\n",
       "223         2\n",
       "224         2\n",
       "228         2\n",
       "162         2\n",
       "270         2\n",
       "184         1\n",
       "355         1\n",
       "201         1\n",
       "330         1\n",
       "232         1\n",
       "237         1\n",
       "186         1\n",
       "133         1\n",
       "182         1\n",
       "181         1\n",
       "179         1\n",
       "155         1\n",
       "135         1\n",
       "174         1\n",
       "172         1\n",
       "137         1\n",
       "170         1\n",
       "169         1\n",
       "141         1\n",
       "165         1\n",
       "164         1\n",
       "161         1\n",
       "160         1\n",
       "239         1\n",
       "Name: Total_Number_of_Reviews_Reviewer_Has_Given, Length: 198, dtype: int64"
      ]
     },
     "execution_count": 17,
     "metadata": {},
     "output_type": "execute_result"
    }
   ],
   "source": [
    "#find out how many reviews people usually submit\n",
    "df.Total_Number_of_Reviews_Reviewer_Has_Given.value_counts()"
   ]
  },
  {
   "cell_type": "markdown",
   "metadata": {},
   "source": [
    "Turns out, there aren't many frequent reviewers. To gain more knowledge, let's look at the data distribution."
   ]
  },
  {
   "cell_type": "code",
   "execution_count": 18,
   "metadata": {},
   "outputs": [
    {
     "data": {
      "text/plain": [
       "count    515738.000000\n",
       "mean          7.166001\n",
       "std          11.040228\n",
       "min           1.000000\n",
       "25%           1.000000\n",
       "50%           3.000000\n",
       "75%           8.000000\n",
       "max         355.000000\n",
       "Name: Total_Number_of_Reviews_Reviewer_Has_Given, dtype: float64"
      ]
     },
     "execution_count": 18,
     "metadata": {},
     "output_type": "execute_result"
    }
   ],
   "source": [
    "df.Total_Number_of_Reviews_Reviewer_Has_Given.describe()"
   ]
  },
  {
   "cell_type": "markdown",
   "metadata": {},
   "source": [
    "Only the top 25% of customers leave 8 reviews or more. It would be interesting to find out who the top reviewers are. Here we'll consider only the contries that provided 100 or more reviews."
   ]
  },
  {
   "cell_type": "code",
   "execution_count": 19,
   "metadata": {
    "scrolled": true
   },
   "outputs": [
    {
     "data": {
      "text/plain": [
       "<matplotlib.axes._subplots.AxesSubplot at 0x1a36b49518>"
      ]
     },
     "execution_count": 19,
     "metadata": {},
     "output_type": "execute_result"
    },
    {
     "data": {
      "image/png": "[encoded data removed]",
      "text/plain": [
       "<Figure size 432x288 with 1 Axes>"
      ]
     },
     "metadata": {
      "needs_background": "light"
     },
     "output_type": "display_data"
    }
   ],
   "source": [
    "#visualize number of reviews by nationality for those with 100 or more reviews\n",
    "orig = df['Reviewer_Nationality'].value_counts()[df['Reviewer_Nationality'].value_counts() > 100]\n",
    "plt2 = df.groupby('Reviewer_Nationality').mean()\n",
    "plt2.loc[orig.index.tolist()]['Total_Number_of_Reviews_Reviewer_Has_Given'].sort_values(ascending=False)[:10].plot(kind=\"bar\",color='blue')"
   ]
  },
  {
   "cell_type": "markdown",
   "metadata": {},
   "source": [
    "Now, let's see which nationality leaves the highest reviews."
   ]
  },
  {
   "cell_type": "code",
   "execution_count": 20,
   "metadata": {
    "scrolled": true
   },
   "outputs": [
    {
     "data": {
      "text/plain": [
       "<matplotlib.axes._subplots.AxesSubplot at 0x1a366e4518>"
      ]
     },
     "execution_count": 20,
     "metadata": {},
     "output_type": "execute_result"
    },
    {
     "data": {
      "image/png": "[encoded data removed]",
      "text/plain": [
       "<Figure size 432x288 with 1 Axes>"
      ]
     },
     "metadata": {
      "needs_background": "light"
     },
     "output_type": "display_data"
    }
   ],
   "source": [
    "orig1 = df['Reviewer_Nationality'].value_counts()[df['Reviewer_Nationality'].value_counts() > 100]\n",
    "plt3 = df.groupby('Reviewer_Nationality').mean()\n",
    "plt3.loc[orig1.index.tolist()]['Reviewer_Score'].sort_values(ascending=False)[:10].plot(kind=\"bar\",color='blue')"
   ]
  },
  {
   "cell_type": "markdown",
   "metadata": {},
   "source": [
    "On Booking.com, the minimum review score is 2.5, and the maximum is 10. Let's visualize the average review score distribution for our hotels in question."
   ]
  },
  {
   "cell_type": "code",
   "execution_count": 21,
   "metadata": {},
   "outputs": [
    {
     "data": {
      "text/plain": [
       "<matplotlib.axes._subplots.AxesSubplot at 0x1a364effd0>"
      ]
     },
     "execution_count": 21,
     "metadata": {},
     "output_type": "execute_result"
    },
    {
     "data": {
      "image/png": "[encoded data removed]",
      "text/plain": [
       "<Figure size 2160x432 with 1 Axes>"
      ]
     },
     "metadata": {
      "needs_background": "light"
     },
     "output_type": "display_data"
    }
   ],
   "source": [
    "plt2 = df[['Hotel_Name','Average_Score']].drop_duplicates()\n",
    "plt.figure(figsize = (30,6))\n",
    "sns.countplot(x = 'Average_Score',data = plt2,color='blue')"
   ]
  },
  {
   "cell_type": "markdown",
   "metadata": {},
   "source": [
    "Looks like the majority of hotels has a rating from 8.1 to 9.1. Let's check the distribution within the *Average Score* column."
   ]
  },
  {
   "cell_type": "code",
   "execution_count": 22,
   "metadata": {
    "scrolled": true
   },
   "outputs": [
    {
     "data": {
      "text/plain": [
       "count    515738.000000\n",
       "mean          8.397487\n",
       "std           0.548048\n",
       "min           5.200000\n",
       "25%           8.100000\n",
       "50%           8.400000\n",
       "75%           8.800000\n",
       "max           9.800000\n",
       "Name: Average_Score, dtype: float64"
      ]
     },
     "execution_count": 22,
     "metadata": {},
     "output_type": "execute_result"
    }
   ],
   "source": [
    "df['Average_Score'].describe()"
   ]
  },
  {
   "cell_type": "markdown",
   "metadata": {},
   "source": [
    "Because the scores only start at 2.5, we can say that the overall ratings are somewhat inflated with the minimum score in our dataset starting at 5.2. We can see that 50% of hotels score below 8.4 which we are going to consider as a threshold for generally being a 'good' hotel."
   ]
  },
  {
   "cell_type": "markdown",
   "metadata": {},
   "source": [
    "Going to word stats, out of curiosity, let's see whether people write longer negative or positive reviews."
   ]
  },
  {
   "cell_type": "code",
   "execution_count": 23,
   "metadata": {},
   "outputs": [
    {
     "data": {
      "text/plain": [
       "17.77645820164502"
      ]
     },
     "execution_count": 23,
     "metadata": {},
     "output_type": "execute_result"
    }
   ],
   "source": [
    "#positive review word count\n",
    "df.Review_Total_Positive_Word_Counts.sum()/len(df)"
   ]
  },
  {
   "cell_type": "code",
   "execution_count": 24,
   "metadata": {},
   "outputs": [
    {
     "data": {
      "text/plain": [
       "18.539450263505888"
      ]
     },
     "execution_count": 24,
     "metadata": {},
     "output_type": "execute_result"
    }
   ],
   "source": [
    "#negative review word count\n",
    "df.Review_Total_Negative_Word_Counts.sum()/len(df)"
   ]
  },
  {
   "cell_type": "markdown",
   "metadata": {},
   "source": [
    "Although, there is not that much of a difference, but on average we can say that negative reviews are slightly longer than positive ones."
   ]
  },
  {
   "cell_type": "code",
   "execution_count": 25,
   "metadata": {
    "scrolled": true
   },
   "outputs": [
    {
     "data": {
      "text/html": [
       "<div>\n",
       "<style scoped>\n",
       "    .dataframe tbody tr th:only-of-type {\n",
       "        vertical-align: middle;\n",
       "    }\n",
       "\n",
       "    .dataframe tbody tr th {\n",
       "        vertical-align: top;\n",
       "    }\n",
       "\n",
       "    .dataframe thead th {\n",
       "        text-align: right;\n",
       "    }\n",
       "</style>\n",
       "<table border=\"1\" class=\"dataframe\">\n",
       "  <thead>\n",
       "    <tr style=\"text-align: right;\">\n",
       "      <th></th>\n",
       "      <th>Review</th>\n",
       "      <th>Is_bad_review</th>\n",
       "    </tr>\n",
       "  </thead>\n",
       "  <tbody>\n",
       "    <tr>\n",
       "      <th>0</th>\n",
       "      <td>I am so angry that i made this post available...</td>\n",
       "      <td>1</td>\n",
       "    </tr>\n",
       "    <tr>\n",
       "      <th>1</th>\n",
       "      <td>No Negative No real complaints the hotel was g...</td>\n",
       "      <td>0</td>\n",
       "    </tr>\n",
       "    <tr>\n",
       "      <th>2</th>\n",
       "      <td>Rooms are nice but for elderly a bit difficul...</td>\n",
       "      <td>0</td>\n",
       "    </tr>\n",
       "    <tr>\n",
       "      <th>3</th>\n",
       "      <td>My room was dirty and I was afraid to walk ba...</td>\n",
       "      <td>1</td>\n",
       "    </tr>\n",
       "    <tr>\n",
       "      <th>4</th>\n",
       "      <td>You When I booked with your company on line y...</td>\n",
       "      <td>0</td>\n",
       "    </tr>\n",
       "  </tbody>\n",
       "</table>\n",
       "</div>"
      ],
      "text/plain": [
       "                                              Review  Is_bad_review\n",
       "0   I am so angry that i made this post available...              1\n",
       "1  No Negative No real complaints the hotel was g...              0\n",
       "2   Rooms are nice but for elderly a bit difficul...              0\n",
       "3   My room was dirty and I was afraid to walk ba...              1\n",
       "4   You When I booked with your company on line y...              0"
      ]
     },
     "execution_count": 25,
     "metadata": {},
     "output_type": "execute_result"
    }
   ],
   "source": [
    "#combine positive and negative reviews into one df\n",
    "df['Review'] = df['Negative_Review'] + df['Positive_Review']\n",
    "# create the label\n",
    "df['Is_bad_review'] = df['Reviewer_Score'].apply(lambda x: 1 if x < 5 else 0)\n",
    "# select only relevant columns\n",
    "df = df[['Review', 'Is_bad_review']]\n",
    "df.head()"
   ]
  },
  {
   "cell_type": "markdown",
   "metadata": {},
   "source": [
    "To avoid skewing our resuls by repetitive phrasing 'No negative' and 'No positive' in cases where the reviewer provided only 1 type of comment, we are goin to remove the 'null' inputs."
   ]
  },
  {
   "cell_type": "code",
   "execution_count": 26,
   "metadata": {},
   "outputs": [],
   "source": [
    "#remove 'no negative' or 'no positive'\n",
    "df['Review'] = df['Review'].apply(lambda x: x.replace('No Negative', '').replace('No Positive', ''))"
   ]
  },
  {
   "cell_type": "markdown",
   "metadata": {},
   "source": [
    "## Modeling\n",
    "\n",
    "At this point we are ready to model our data. The goal of our model is to see whether we can predict if a review is positive or negative based on the kind of words that are used in the review. To fulfil this goal, we are goin to create a classification model with word embeddings.\n",
    "\n",
    "Because such models are comuputationally complex, we are going to use a subset of data for futher calculations."
   ]
  },
  {
   "cell_type": "code",
   "execution_count": 27,
   "metadata": {},
   "outputs": [],
   "source": [
    "#create a subset of data \n",
    "df_sample = df.sample(frac = 0.1, replace = False, random_state=42)"
   ]
  },
  {
   "cell_type": "markdown",
   "metadata": {},
   "source": [
    "Since the target of this model is to predict whether a review is positive or negative, we are going to save the labels into a 'target'variable, and tokenize the text."
   ]
  },
  {
   "cell_type": "code",
   "execution_count": 28,
   "metadata": {},
   "outputs": [],
   "source": [
    "#save review labels as target and tokenize text \n",
    "target = df_sample['Is_bad_review']\n",
    "data = df_sample['Review'].map(word_tokenize).values"
   ]
  },
  {
   "cell_type": "markdown",
   "metadata": {},
   "source": [
    "Further on, we are going to use Global Vectors for Word Representation from the Stanford NLP Group. The set features some of the best pre-trained word vectors available. \n",
    "\n",
    "We are only going to need the vectors for the words in the dataset, so we need to put together the total vocabulary of the dataset. Since we already tokenized the reviews, we are now going to add the words to the Python set object."
   ]
  },
  {
   "cell_type": "code",
   "execution_count": 29,
   "metadata": {},
   "outputs": [],
   "source": [
    "#calculate total vocabulary\n",
    "total_vocabulary = set(word for review in data for word in review)"
   ]
  },
  {
   "cell_type": "code",
   "execution_count": 30,
   "metadata": {
    "scrolled": true
   },
   "outputs": [
    {
     "name": "stdout",
     "output_type": "stream",
     "text": [
      "There are 31534 unique tokens in the dataset.\n"
     ]
    }
   ],
   "source": [
    "#check the number of words in the total vocabulary\n",
    "len(total_vocabulary)\n",
    "print('There are {} unique tokens in the dataset.'.format(len(total_vocabulary)))"
   ]
  },
  {
   "cell_type": "markdown",
   "metadata": {},
   "source": [
    "Now that we know the total number of words in our subset is 31,534, we are going to get the vectors we need out of the GloVe file."
   ]
  },
  {
   "cell_type": "code",
   "execution_count": 31,
   "metadata": {},
   "outputs": [],
   "source": [
    "#create dictionary containing vectors for the corresponding vocabulary\n",
    "glove = {}\n",
    "with open('glove.6B.50d.txt', 'rb') as f:\n",
    "    for line in f:\n",
    "        parts = line.split()\n",
    "        word = parts[0].decode('utf-8')\n",
    "        if word in total_vocabulary:\n",
    "            vector = np.array(parts[1:], dtype=np.float32)\n",
    "            glove[word] = vector"
   ]
  },
  {
   "cell_type": "markdown",
   "metadata": {},
   "source": [
    "We are going to create a mean embedding vectorizer class to make the next modeing step possible."
   ]
  },
  {
   "cell_type": "code",
   "execution_count": 32,
   "metadata": {},
   "outputs": [],
   "source": [
    "#create mean embedding vectorizer class\n",
    "class W2vVectorizer(object):\n",
    "    \n",
    "    def __init__(self, w2v):\n",
    "        # Takes in a dictionary of words and vectors as input\n",
    "        self.w2v = w2v\n",
    "        if len(w2v) == 0:\n",
    "            self.dimensions = 0\n",
    "        else:\n",
    "            self.dimensions = len(w2v[next(iter(glove))])\n",
    "    \n",
    "    def fit(self, X, y):\n",
    "        return self\n",
    "            \n",
    "    def transform(self, X):\n",
    "        return np.array([\n",
    "            np.mean([self.w2v[w] for w in words if w in self.w2v]\n",
    "                   or [np.zeros(self.dimensions)], axis=0) for words in X])"
   ]
  },
  {
   "cell_type": "markdown",
   "metadata": {},
   "source": [
    "To keep the code clean, we will make use of the scikit-learn pipelines. We'll pass the mean embedding vectorizer created above to create pipeline objects."
   ]
  },
  {
   "cell_type": "code",
   "execution_count": 33,
   "metadata": {},
   "outputs": [],
   "source": [
    "#use scikit-learn pipelines\n",
    "from sklearn.ensemble import RandomForestClassifier\n",
    "from sklearn.svm import SVC\n",
    "from sklearn.linear_model import LogisticRegression\n",
    "from sklearn.pipeline import Pipeline\n",
    "from sklearn.model_selection import cross_val_score\n",
    "\n",
    "rf =  Pipeline([('Word2Vec Vectorizer', W2vVectorizer(glove)),\n",
    "              ('Random Forest', RandomForestClassifier(n_estimators=100, verbose=True))])\n",
    "svc = Pipeline([('Word2Vec Vectorizer', W2vVectorizer(glove)),\n",
    "                ('Support Vector Machine', SVC())])\n",
    "lr = Pipeline([('Word2Vec Vectorizer', W2vVectorizer(glove)),\n",
    "              ('Logistic Regression', LogisticRegression())])"
   ]
  },
  {
   "cell_type": "markdown",
   "metadata": {},
   "source": [
    "For each pipeline, we are going to create a tuple consisting of a pipeline object and its name."
   ]
  },
  {
   "cell_type": "code",
   "execution_count": 34,
   "metadata": {},
   "outputs": [],
   "source": [
    "#create name-pipeline object tuples\n",
    "models = [('Random Forest', rf),\n",
    "          ('Support Vector Machine', svc),\n",
    "          ('Logistic Regression', lr)]"
   ]
  },
  {
   "cell_type": "markdown",
   "metadata": {},
   "source": [
    "We are now ready to train the model. "
   ]
  },
  {
   "cell_type": "code",
   "execution_count": 35,
   "metadata": {},
   "outputs": [
    {
     "name": "stderr",
     "output_type": "stream",
     "text": [
      "[Parallel(n_jobs=1)]: Using backend SequentialBackend with 1 concurrent workers.\n",
      "[Parallel(n_jobs=1)]: Done 100 out of 100 | elapsed:   20.3s finished\n",
      "[Parallel(n_jobs=1)]: Using backend SequentialBackend with 1 concurrent workers.\n",
      "[Parallel(n_jobs=1)]: Done 100 out of 100 | elapsed:    0.4s finished\n",
      "[Parallel(n_jobs=1)]: Using backend SequentialBackend with 1 concurrent workers.\n",
      "[Parallel(n_jobs=1)]: Done 100 out of 100 | elapsed:   17.2s finished\n",
      "[Parallel(n_jobs=1)]: Using backend SequentialBackend with 1 concurrent workers.\n",
      "[Parallel(n_jobs=1)]: Done 100 out of 100 | elapsed:    0.4s finished\n"
     ]
    }
   ],
   "source": [
    "#train the model\n",
    "scores = [(name, cross_val_score(model, data, target, cv=2).mean()) for name, model, in models]"
   ]
  },
  {
   "cell_type": "code",
   "execution_count": 36,
   "metadata": {
    "scrolled": true
   },
   "outputs": [
    {
     "data": {
      "text/plain": [
       "[('Random Forest', 0.9567223794935433),\n",
       " ('Support Vector Machine', 0.9567611587233877),\n",
       " ('Logistic Regression', 0.955209989529608)]"
      ]
     },
     "execution_count": 36,
     "metadata": {},
     "output_type": "execute_result"
    }
   ],
   "source": [
    "#check the training scores\n",
    "scores"
   ]
  },
  {
   "cell_type": "markdown",
   "metadata": {},
   "source": [
    "We got pretty high cross validation scores which says that our model is performing pretty well. Something to consider is that we only used a subset of data not to get hung up by the slow computational speeds. In case we have a larger set of total vocabulary, we might get a different result which we can research in further projects."
   ]
  },
  {
   "cell_type": "markdown",
   "metadata": {},
   "source": [
    "Now that we can predict whether a review is good or bad with pretty high certainty, let's dig deeper into what makes it a good review, and what features guests note the most when praising an accommodation."
   ]
  },
  {
   "cell_type": "code",
   "execution_count": 37,
   "metadata": {},
   "outputs": [
    {
     "data": {
      "text/plain": [
       "1     No real complaints the hotel was great great ...\n",
       "2     Rooms are nice but for elderly a bit difficul...\n",
       "4     You When I booked with your company on line y...\n",
       "5     Backyard of the hotel is total mess shouldn t...\n",
       "7     Apart from the price for the brekfast Everyth...\n",
       "Name: Review, dtype: object"
      ]
     },
     "execution_count": 37,
     "metadata": {},
     "output_type": "execute_result"
    }
   ],
   "source": [
    "#create a good review df\n",
    "good = df['Is_bad_review'] == 0\n",
    "df1 = df[good]\n",
    "df1 = df1['Review']\n",
    "df1.head()"
   ]
  },
  {
   "cell_type": "markdown",
   "metadata": {},
   "source": [
    "For further analysis, we are going to preprocess the data tokenize the words."
   ]
  },
  {
   "cell_type": "code",
   "execution_count": 38,
   "metadata": {},
   "outputs": [
    {
     "name": "stderr",
     "output_type": "stream",
     "text": [
      "[nltk_data] Downloading package stopwords to\n",
      "[nltk_data]     /Users/algonzalez/nltk_data...\n",
      "[nltk_data]   Package stopwords is already up-to-date!\n",
      "[nltk_data] Downloading package wordnet to\n",
      "[nltk_data]     /Users/algonzalez/nltk_data...\n",
      "[nltk_data]   Package wordnet is already up-to-date!\n"
     ]
    }
   ],
   "source": [
    "#add necessary packages\n",
    "import re\n",
    "nltk.download('stopwords')\n",
    "nltk.download('wordnet')\n",
    "stop_words = set(stopwords.words('english'))\n",
    "from nltk.stem import WordNetLemmatizer\n",
    "wordnet_lemmatizer = WordNetLemmatizer()"
   ]
  },
  {
   "cell_type": "code",
   "execution_count": 41,
   "metadata": {},
   "outputs": [],
   "source": [
    "#create a list of words in a positive review\n",
    "gr = []\n",
    "for i in df1:\n",
    "    letters = re.sub('[^a-zA-Z]',' ',i)\n",
    "    tokens = nltk.word_tokenize(letters)\n",
    "    lowercase = [l.lower() for l in tokens]\n",
    "    filtered_presult = list(filter(lambda l: l not in stop_words, lowercase))\n",
    "    lemmas = [wordnet_lemmatizer.lemmatize(t) for t in filtered_presult] \n",
    "    gr.append(' '.join(lemmas))"
   ]
  },
  {
   "cell_type": "markdown",
   "metadata": {},
   "source": [
    "From the list of words in positive reviews, let's select the top 50 to understand what features are most important for guests when choosing an accommodation. "
   ]
  },
  {
   "cell_type": "code",
   "execution_count": 42,
   "metadata": {
    "scrolled": true
   },
   "outputs": [
    {
     "data": {
      "text/plain": [
       "[('location', 1578),\n",
       " ('nothing everything', 1362),\n",
       " ('everything', 975),\n",
       " ('great location', 461),\n",
       " ('', 419),\n",
       " ('breakfast', 338),\n",
       " ('nothing location', 288),\n",
       " ('good location', 266),\n",
       " ('room small', 265),\n",
       " ('friendly staff', 242),\n",
       " ('everything perfect', 242),\n",
       " ('nothing', 210),\n",
       " ('good', 190),\n",
       " ('location staff', 189),\n",
       " ('small room', 185),\n",
       " ('small room location', 177),\n",
       " ('staff friendly helpful', 176),\n",
       " ('excellent location', 173),\n",
       " ('staff', 173),\n",
       " ('friendly helpful staff', 155),\n",
       " ('room small location', 133),\n",
       " ('staff helpful', 131),\n",
       " ('bed comfortable', 130),\n",
       " ('perfect', 129),\n",
       " ('breakfast location', 123),\n",
       " ('location perfect', 107),\n",
       " ('staff location', 107),\n",
       " ('everything great', 106),\n",
       " ('nothing every thing', 102),\n",
       " ('location excellent', 101),\n",
       " ('bed comfy', 101),\n",
       " ('perfect location', 101),\n",
       " ('staff friendly', 100),\n",
       " ('price location', 99),\n",
       " ('great location friendly staff', 99),\n",
       " ('good breakfast', 99),\n",
       " ('excellent', 94),\n",
       " ('helpful staff', 92),\n",
       " ('location great', 92),\n",
       " ('staff excellent', 91),\n",
       " ('nothing everything perfect', 91),\n",
       " ('location location location', 84),\n",
       " ('excellent breakfast', 84),\n",
       " ('everything excellent', 82),\n",
       " ('room', 80),\n",
       " ('every thing', 78),\n",
       " ('location good', 77),\n",
       " ('location breakfast', 75),\n",
       " ('staff helpful friendly', 73),\n",
       " ('everything good', 73)]"
      ]
     },
     "execution_count": 42,
     "metadata": {},
     "output_type": "execute_result"
    }
   ],
   "source": [
    "#review frequency\n",
    "gr_freq = FreqDist(gr)\n",
    "gr_freq.most_common(50)"
   ]
  },
  {
   "cell_type": "markdown",
   "metadata": {},
   "source": [
    "Location, breakfast and staff are the things that guests note the most and like to review, so it's important hoteliers pay special attention to those things to ensure their guests have a wonderful stay."
   ]
  },
  {
   "cell_type": "markdown",
   "metadata": {},
   "source": [
    "## Conclusions\n",
    "\n",
    "This dataset is rich in information we can get out of it, and with this research we barely scratched the surface. We have a lot of room for further tweaking the data and diving even deeper into the sentiment analysis.\n",
    "\n",
    "Some of the main things we've learned about a dataset were that all 515+k hotels are located in 6 cities in Europe. We found out the highest and lowest scoring hotels overall, which we can further extrapolate for highest and lowest scoring properties in a specific city. We discovered what nationalities are the most vocal when it comes to reviewing hotels, and who are the most generous reviewers. We also found out that Booking.com's guests don't review properties very often, but generally, the site has pretty high review scores, with 50% of hotels receiving the score of about 8.4. We also worked on predicting whether a review is positive or negative based on the words used in it, and looked at the most frequently used terms in positive reviews.\n",
    "\n",
    "At the same time, there is still plenty of space for us to do further research. One thing to consider was we removed the lines containing null values for latitude and longitude, and consequently lost some data. In further research, we can look into adding that information from the hotel address that is available in the dataset.  We can definitely dig deeper into visualizations and pulling further insights from the dataset. For example, we can find out what scores to the most vocal nations usually give to the properties or whether there is any correlation between the nationality and whether a person only adds a positive or a negative review. When modeling, we can look at a bigger sample of data to check if the model will still perform so well. Also, we can dig into negative reviews and check whether customers note the same or different features when leaving a bad review."
   ]
  }
 ],
 "metadata": {
  "kernelspec": {
   "display_name": "learn-env",
   "language": "python",
   "name": "learn-env"
  },
  "language_info": {
   "codemirror_mode": {
    "name": "ipython",
    "version": 3
   },
   "file_extension": ".py",
   "mimetype": "text/x-python",
   "name": "python",
   "nbconvert_exporter": "python",
   "pygments_lexer": "ipython3",
   "version": "3.6.6"
  }
 },
 "nbformat": 4,
 "nbformat_minor": 2
}
